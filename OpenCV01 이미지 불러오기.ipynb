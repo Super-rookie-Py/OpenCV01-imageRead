{
 "cells": [
  {
   "cell_type": "markdown",
   "metadata": {},
   "source": [
    "# 강의노트\n",
    "### opencv2 이미지분석"
   ]
  },
  {
   "cell_type": "code",
   "execution_count": 6,
   "metadata": {},
   "outputs": [],
   "source": [
    "import cv2"
   ]
  },
  {
   "cell_type": "markdown",
   "metadata": {},
   "source": [
    "#### cv2.imread(file_name, flag) : 이미지를 읽어 Numpy 객체로 만드는함수\n",
    "\n",
    "#### flie_name: 읽고자하는 파일\n",
    "#### flag: 이미지를 읽는 방법 설정\n",
    "#### -IMREAD_COLOR: 이미지를 color로 읽고 투명한부분 무시\n",
    "#### -IMREAD_GRAYSCALE: 이미지를 greyscale로 읽기(흑백)\n",
    "#### - IMREAD_UNCHANGED: 이미지를 Color로 읽고, 투명한 부분도 읽기( alpha )\n"
   ]
  },
  {
   "cell_type": "code",
   "execution_count": 7,
   "metadata": {},
   "outputs": [],
   "source": [
    "# 이미지 불러오기\n",
    "\n",
    "img_basic = cv2.imread(\"cat.jpg\", cv2.IMREAD_COLOR)  #이미지 읽기\n",
    "cv2.imshow('Image Basic', img_basic)     #화면에 이미지 출력\n",
    "cv2.waitKey(0)                          \n",
    "cv2.imwrite(\"result1.png\", img_basic)      # 작업후 파일 저장하기\n",
    "\n",
    "img_gray = cv2.cvtColor(img_basic, cv2.COLOR_BGR2GRAY)   #BGR 형태로 데이터 처리 표현됨\n",
    "cv2.imshow('Image Basic', img_gray)\n",
    "cv2.waitKey(0)                          \n",
    "cv2.imwrite(\"result1.png\", img_gray)\n",
    "\n",
    "cv2.destroyAllWindows()  #화면닫기"
   ]
  },
  {
   "cell_type": "code",
   "execution_count": null,
   "metadata": {},
   "outputs": [],
   "source": []
  }
 ],
 "metadata": {
  "kernelspec": {
   "display_name": "Python 3",
   "language": "python",
   "name": "python3"
  },
  "language_info": {
   "codemirror_mode": {
    "name": "ipython",
    "version": 3
   },
   "file_extension": ".py",
   "mimetype": "text/x-python",
   "name": "python",
   "nbconvert_exporter": "python",
   "pygments_lexer": "ipython3",
   "version": "3.7.5"
  }
 },
 "nbformat": 4,
 "nbformat_minor": 2
}
